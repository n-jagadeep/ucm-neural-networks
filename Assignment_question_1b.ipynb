{
  "nbformat": 4,
  "nbformat_minor": 0,
  "metadata": {
    "colab": {
      "provenance": [],
      "authorship_tag": "ABX9TyNBBxrpz3QFTybSw8LdvM57",
      "include_colab_link": true
    },
    "kernelspec": {
      "name": "python3",
      "display_name": "Python 3"
    },
    "language_info": {
      "name": "python"
    }
  },
  "cells": [
    {
      "cell_type": "markdown",
      "metadata": {
        "id": "view-in-github",
        "colab_type": "text"
      },
      "source": [
        "<a href=\"https://colab.research.google.com/github/n-jagadeep/ucm-neural-networks/blob/n-jagadeep-patch-1/Assignment_question_1b.ipynb\" target=\"_parent\"><img src=\"https://colab.research.google.com/assets/colab-badge.svg\" alt=\"Open In Colab\"/></a>"
      ]
    },
    {
      "cell_type": "code",
      "execution_count": 1,
      "metadata": {
        "colab": {
          "base_uri": "https://localhost:8080/"
        },
        "id": "IRtuZ0Qg4VfA",
        "outputId": "2b736747-6850-4d7c-8d54-91d321cb3671"
      },
      "outputs": [
        {
          "output_type": "stream",
          "name": "stdout",
          "text": [
            "Enter first number: 32\n",
            "Enter second number: 56\n",
            "The sum of 32 and 56 is 88.0\n",
            "The subtraction of 32 and 56 is -24.0\n",
            "The division of 32 and 56 is 0.5714285714285714\n",
            "The multiplication of 32 and 56 is 1792.0\n"
          ]
        }
      ],
      "source": [
        "a = input('Enter first number: ')\n",
        "b = input('Enter second number: ')\n",
        "sum = float(a) + float(b)\n",
        "sub = float(a) - float(b)\n",
        "div = float(a) / float(b)\n",
        "mul = float(a) * float(b)\n",
        "print('The sum of {0} and {1} is {2}'.format(a, b , sum))\n",
        "print('The subtraction of {0} and {1} is {2}'.format(a, b , sub))\n",
        "print('The division of {0} and {1} is {2}'.format(a, b , div))\n",
        "print('The multiplication of {0} and {1} is {2}'.format(a, b , mul))"
      ]
    }
  ]
}