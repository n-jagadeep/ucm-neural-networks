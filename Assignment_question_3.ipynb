{
  "nbformat": 4,
  "nbformat_minor": 0,
  "metadata": {
    "colab": {
      "provenance": [],
      "authorship_tag": "ABX9TyN7i9dQxnJ+lURyFGHpyJXj",
      "include_colab_link": true
    },
    "kernelspec": {
      "name": "python3",
      "display_name": "Python 3"
    },
    "language_info": {
      "name": "python"
    }
  },
  "cells": [
    {
      "cell_type": "markdown",
      "metadata": {
        "id": "view-in-github",
        "colab_type": "text"
      },
      "source": [
        "<a href=\"https://colab.research.google.com/github/n-jagadeep/ucm-neural-networks/blob/n-jagadeep-patch-1/Assignment_question_3.ipynb\" target=\"_parent\"><img src=\"https://colab.research.google.com/assets/colab-badge.svg\" alt=\"Open In Colab\"/></a>"
      ]
    },
    {
      "cell_type": "code",
      "execution_count": 9,
      "metadata": {
        "colab": {
          "base_uri": "https://localhost:8080/"
        },
        "id": "cqeeJuXn8Hco",
        "outputId": "c6e80b4c-37c5-4bb9-fa52-e5018a922e6e"
      },
      "outputs": [
        {
          "output_type": "stream",
          "name": "stdout",
          "text": [
            "enter your marks: 45\n",
            "F\n"
          ]
        }
      ],
      "source": [
        "class_score = input(\"enter your marks: \")\n",
        "class_score = int(class_score)\n",
        "if class_score>=90:\n",
        "  print('A')\n",
        "elif class_score>=80:\n",
        "  print('B')\n",
        "elif class_score>=70:\n",
        "  print('C')\n",
        "elif class_score>=60:\n",
        "  print('D')\n",
        "elif class_score>=50:\n",
        "  print('E')\n",
        "else :\n",
        "  print('F')"
      ]
    }
  ]
}