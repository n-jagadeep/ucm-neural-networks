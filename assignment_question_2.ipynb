{
  "nbformat": 4,
  "nbformat_minor": 0,
  "metadata": {
    "colab": {
      "provenance": [],
      "authorship_tag": "ABX9TyO4t/zMQWKYySEacH3UEepM",
      "include_colab_link": true
    },
    "kernelspec": {
      "name": "python3",
      "display_name": "Python 3"
    },
    "language_info": {
      "name": "python"
    }
  },
  "cells": [
    {
      "cell_type": "markdown",
      "metadata": {
        "id": "view-in-github",
        "colab_type": "text"
      },
      "source": [
        "<a href=\"https://colab.research.google.com/github/n-jagadeep/ucm-neural-networks/blob/n-jagadeep-patch-1/assignment_question_2.ipynb\" target=\"_parent\"><img src=\"https://colab.research.google.com/assets/colab-badge.svg\" alt=\"Open In Colab\"/></a>"
      ]
    },
    {
      "cell_type": "code",
      "execution_count": 2,
      "metadata": {
        "colab": {
          "base_uri": "https://localhost:8080/"
        },
        "id": "Ee5RnVkP6D-R",
        "outputId": "82409aa2-ce94-4961-dfec-1bf33bb0ae2d"
      },
      "outputs": [
        {
          "output_type": "stream",
          "name": "stdout",
          "text": [
            "enter any sentenece: python is python and the best python\n",
            "pythons is pythons and the best pythons\n"
          ]
        }
      ],
      "source": [
        "a = input(\"enter any sentenece: \")\n",
        "a = a.replace(\"python\",\"pythons\")\n",
        "print(a)"
      ]
    }
  ]
}