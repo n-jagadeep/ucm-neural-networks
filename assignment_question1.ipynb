{
  "nbformat": 4,
  "nbformat_minor": 0,
  "metadata": {
    "colab": {
      "provenance": [],
      "authorship_tag": "ABX9TyNow85QWs95m9+lCzypHVSp",
      "include_colab_link": true
    },
    "kernelspec": {
      "name": "python3",
      "display_name": "Python 3"
    },
    "language_info": {
      "name": "python"
    }
  },
  "cells": [
    {
      "cell_type": "markdown",
      "metadata": {
        "id": "view-in-github",
        "colab_type": "text"
      },
      "source": [
        "<a href=\"https://colab.research.google.com/github/n-jagadeep/ucm-neural-networks/blob/n-jagadeep-patch-1/assignment_question1.ipynb\" target=\"_parent\"><img src=\"https://colab.research.google.com/assets/colab-badge.svg\" alt=\"Open In Colab\"/></a>"
      ]
    },
    {
      "cell_type": "code",
      "execution_count": 21,
      "metadata": {
        "id": "qczF8ASalVru",
        "colab": {
          "base_uri": "https://localhost:8080/"
        },
        "outputId": "eeb8d211-0ef2-45ac-cfb1-83666317dccc"
      },
      "outputs": [
        {
          "output_type": "stream",
          "name": "stdout",
          "text": [
            "type Python :Python\n",
            "nhtP\n"
          ]
        }
      ],
      "source": [
        "a = input('type Python :')\n",
        "b = 'Python'\n",
        "if a!= b :\n",
        "  print(\"print Python pls!\")\n",
        "else :\n",
        "  a = a.replace(\"o\",\"\")\n",
        "  a = a.replace(\"y\",\"\")\n",
        "  a = a[::-1]\n",
        "  print(a)"
      ]
    }
  ]
}