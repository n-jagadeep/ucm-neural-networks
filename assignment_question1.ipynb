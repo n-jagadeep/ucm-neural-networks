{
  "nbformat": 4,
  "nbformat_minor": 0,
  "metadata": {
    "colab": {
      "provenance": [],
      "authorship_tag": "ABX9TyPKMEHYAfEObfSbMPixT5oG",
      "include_colab_link": true
    },
    "kernelspec": {
      "name": "python3",
      "display_name": "Python 3"
    },
    "language_info": {
      "name": "python"
    }
  },
  "cells": [
    {
      "cell_type": "markdown",
      "metadata": {
        "id": "view-in-github",
        "colab_type": "text"
      },
      "source": [
        "<a href=\"https://colab.research.google.com/github/n-jagadeep/ucm-neural-networks/blob/n-jagadeep-patch-1/assignment_question1.ipynb\" target=\"_parent\"><img src=\"https://colab.research.google.com/assets/colab-badge.svg\" alt=\"Open In Colab\"/></a>"
      ]
    },
    {
      "cell_type": "code",
      "execution_count": 17,
      "metadata": {
        "id": "qczF8ASalVru",
        "colab": {
          "base_uri": "https://localhost:8080/"
        },
        "outputId": "4e79429f-4ba0-46be-c9f2-6f7a494b5251"
      },
      "outputs": [
        {
          "output_type": "stream",
          "name": "stdout",
          "text": [
            "type python :as\n",
            "print python pls!\n"
          ]
        }
      ],
      "source": [
        "a = input('type python :')\n",
        "b = 'Python' or \"python\"\n",
        "if a!= b:\n",
        "  print(\"print python pls!\")\n",
        "else :\n",
        "  a = a.replace(\"o\",\"\")\n",
        "  a = a.replace(\"y\",\"\")\n",
        "  a = a[::-1]\n",
        "  print(a)"
      ]
    }
  ]
}