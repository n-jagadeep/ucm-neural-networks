{
  "nbformat": 4,
  "nbformat_minor": 0,
  "metadata": {
    "colab": {
      "provenance": [],
      "authorship_tag": "ABX9TyPaZDSpYmveBiLvqGoB0XFd",
      "include_colab_link": true
    },
    "kernelspec": {
      "name": "python3",
      "display_name": "Python 3"
    },
    "language_info": {
      "name": "python"
    }
  },
  "cells": [
    {
      "cell_type": "markdown",
      "metadata": {
        "id": "view-in-github",
        "colab_type": "text"
      },
      "source": [
        "<a href=\"https://colab.research.google.com/github/n-jagadeep/ucm-neural-networks/blob/ICP2/Untitled2.ipynb\" target=\"_parent\"><img src=\"https://colab.research.google.com/assets/colab-badge.svg\" alt=\"Open In Colab\"/></a>"
      ]
    },
    {
      "cell_type": "markdown",
      "source": [
        "**ICP** **2**\n"
      ],
      "metadata": {
        "id": "7jeaZsIzgDLj"
      }
    },
    {
      "cell_type": "markdown",
      "source": [
        "Problem *1a*"
      ],
      "metadata": {
        "id": "hjCrzcaegTQM"
      }
    },
    {
      "cell_type": "code",
      "execution_count": 2,
      "metadata": {
        "colab": {
          "base_uri": "https://localhost:8080/"
        },
        "id": "Tr740QnQeZkw",
        "outputId": "618826e6-0691-498f-9023-bc5e3a3bf49b"
      },
      "outputs": [
        {
          "output_type": "stream",
          "name": "stdout",
          "text": [
            "Enter your first name: Jagadeep\n",
            "Enter your last name: Nannuri\n",
            "Your full name is: Jagadeep Nannuri\n"
          ]
        }
      ],
      "source": [
        "def fullname(first_name, last_name):\n",
        "    return first_name + \" \" + last_name\n",
        "first_name = input(\"Enter your first name: \")\n",
        "last_name = input(\"Enter your last name: \")\n",
        "full_name = fullname(first_name, last_name)\n",
        "print(\"Your full name is:\", full_name)"
      ]
    },
    {
      "cell_type": "markdown",
      "source": [
        "Problem *1b*"
      ],
      "metadata": {
        "id": "09VylYIJgXuG"
      }
    },
    {
      "cell_type": "code",
      "source": [
        "def string_alternative(input_string):\n",
        "    result = \"\"\n",
        "    for i in range(0, len(input_string),2):\n",
        "        result += input_string[i]\n",
        "    return result\n",
        "full_name = input(\"enter any string: \")\n",
        "alternates = string_alternative(full_name)\n",
        "print(alternates)"
      ],
      "metadata": {
        "colab": {
          "base_uri": "https://localhost:8080/"
        },
        "id": "zv_TmKNlgB0_",
        "outputId": "1965d656-2beb-4a55-a909-173b1ad09fc1"
      },
      "execution_count": 6,
      "outputs": [
        {
          "output_type": "stream",
          "name": "stdout",
          "text": [
            "enter any string: hello\n",
            "hlo\n"
          ]
        }
      ]
    },
    {
      "cell_type": "markdown",
      "source": [
        "Problen *2*"
      ],
      "metadata": {
        "id": "-GEAvfSXjljR"
      }
    },
    {
      "cell_type": "code",
      "source": [
        "from google.colab import drive\n",
        "drive.mount('/content/drive')\n"
      ],
      "metadata": {
        "colab": {
          "base_uri": "https://localhost:8080/"
        },
        "id": "1B09b3N-qVyA",
        "outputId": "cf9854cd-2c15-428d-82cd-6195218a8733"
      },
      "execution_count": 11,
      "outputs": [
        {
          "output_type": "stream",
          "name": "stdout",
          "text": [
            "Mounted at /content/drive\n"
          ]
        }
      ]
    },
    {
      "cell_type": "code",
      "source": [
        "from collections import defaultdict\n",
        "import re\n",
        "def count_words(line):\n",
        "    words = re.findall(r'\\w+', line.lower())\n",
        "    return words\n",
        "inputfile = \"input.txt\"\n",
        "outputfile = \"output.txt\"\n",
        "wordcount = defaultdict(int)\n",
        "with open(inputfile, 'r') as input_file, open(outputfile, 'w') as output_file:\n",
        "        output_file.write('Word_Count:\\n')\n",
        "        for line in input_file:\n",
        "            line = line.strip()\n",
        "            words = count_words(line)\n",
        "            output_file.write(line + '\\n')\n",
        "            for word in words:\n",
        "                wordcount[word] += 1\n",
        "        for word, count in wordcount.items():\n",
        "            output_file.write(f'{word}: {count}\\n')"
      ],
      "metadata": {
        "id": "aWRY3Glhjn37"
      },
      "execution_count": 21,
      "outputs": []
    },
    {
      "cell_type": "markdown",
      "source": [
        "Problem *3*"
      ],
      "metadata": {
        "id": "p5otmkLrU106"
      }
    },
    {
      "cell_type": "markdown",
      "source": [
        "1).Interactive loop"
      ],
      "metadata": {
        "id": "DBaCgOlaVOpG"
      }
    },
    {
      "cell_type": "code",
      "source": [
        "def inches_to_cm(height_in_inches):\n",
        "    return height_in_inches * 2.54\n",
        "num_customers = int(input(\"Enter the number of customers: \"))\n",
        "heights_inches = []\n",
        "heights_cm = []\n",
        "\n",
        "for i in range(num_customers):\n",
        "    height = float(input(f\"Enter height (in inches) for customer {i + 1}: \"))\n",
        "    heights_inches.append(height)\n",
        "    heights_cm.append(inches_to_cm(height))\n",
        "print(\"Heights in centimeters:\", heights_cm)"
      ],
      "metadata": {
        "colab": {
          "base_uri": "https://localhost:8080/"
        },
        "id": "glCF2RtQU35O",
        "outputId": "7041c8c1-7344-4502-8657-c1ef4a2dad4f"
      },
      "execution_count": 26,
      "outputs": [
        {
          "output_type": "stream",
          "name": "stdout",
          "text": [
            "Enter the number of customers: 3\n",
            "Enter height (in inches) for customer 1: 12\n",
            "Enter height (in inches) for customer 2: 32\n",
            "Enter height (in inches) for customer 3: 4\n",
            "Heights in centimeters: [30.48, 81.28, 10.16]\n"
          ]
        }
      ]
    },
    {
      "cell_type": "markdown",
      "source": [
        "2).List comprehensions"
      ],
      "metadata": {
        "id": "5PFIUaUhX7li"
      }
    },
    {
      "cell_type": "code",
      "source": [
        "def inches_to_cm(height_in_inches):\n",
        "    return height_in_inches * 2.54\n",
        "num_customers = int(input(\"Enter the number of customers: \"))\n",
        "heights_inches = [float(input(f\"Enter height (in inches) for customer {i + 1}: \")) for i in range(num_customers)]\n",
        "heights_cm = [inches_to_cm(height) for height in heights_inches]\n",
        "print(\"Heights in centimeters:\", heights_cm1)"
      ],
      "metadata": {
        "colab": {
          "base_uri": "https://localhost:8080/"
        },
        "id": "nKnhkjhpYX1H",
        "outputId": "6796632b-588d-4290-d566-4f6ec589cb7e"
      },
      "execution_count": 27,
      "outputs": [
        {
          "output_type": "stream",
          "name": "stdout",
          "text": [
            "Enter the number of customers: 3\n",
            "Enter height (in inches) for customer 1: 23\n",
            "Enter height (in inches) for customer 2: 43\n",
            "Enter height (in inches) for customer 3: 2\n",
            "Heights in centimeters: [58.42, 109.22, 5.08]\n"
          ]
        }
      ]
    }
  ]
}